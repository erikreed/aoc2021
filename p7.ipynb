{
 "cells": [
  {
   "cell_type": "code",
   "execution_count": 3,
   "id": "2c8a227f",
   "metadata": {},
   "outputs": [],
   "source": [
    "data = [1101,    1,   29,   67, 1102,    0,    1,   65, 1008,   65,   35,\n",
    "         66, 1005,   66,   28,    1,   67,   65,   20,    4,    0, 1001,\n",
    "         65,    1,   65, 1106,    0,    8,   99,   35,   67,  101,   99,\n",
    "        105,   32,  110,   39,  101,  115,  116,   32,  112,   97,  115,\n",
    "         32,  117,  110,  101,   32,  105,  110,  116,   99,  111,  100,\n",
    "        101,   32,  112,  114,  111,  103,  114,   97,  109,   10,  346,\n",
    "         92,  161,    1,  634,    8,   35,   96, 1341, 1149,  237,   33,\n",
    "        593,  459,  801,   98, 1160,  322,   67,   98, 1219,  475,   12,\n",
    "        274,   24, 1111, 1134,   14,  195,  234,  654,  202, 1057,  598,\n",
    "         15,  471, 1583,   70,    4,  244,   96,  407,   51, 1158,  275,\n",
    "        962, 1034,  694,  696,  271,  591,  389, 1067,  317,   99, 1321,\n",
    "        177,   18,  257, 1569,  238,  492, 1006,  857,   33,   31,  984,\n",
    "        296,  146, 1910,  214,  367,  600,   62, 1365,  478,   31,  238,\n",
    "        384, 1013,  732,  445,  214,  645,  123, 1069,  391,   80, 1052,\n",
    "         70,  886,   18, 1472,  547,   94, 1483,  729, 1220, 1246,  694,\n",
    "        615,  775,  581, 1056,  405,  428,  138, 1227,   23,    0,  273,\n",
    "        466,  963, 1250,  324, 1628, 1122,  498,  588,    0,  236,  499,\n",
    "        390,   92,   64, 1190,  387,   47,  501,   62,  269,  470,  720,\n",
    "        567,  694,  666,  280,    0,   57,  203,  377, 1061,  781,  857,\n",
    "        698,   50,  291,  370, 1494,    8, 1124,  665,  113,  381,  457,\n",
    "        901,  151,  932,   95,  555,   72,  156,  192,  170,  606, 1033,\n",
    "         39,  542,   19,  453, 1286,  797, 1055,  190,    1, 1075, 1007,\n",
    "        932, 1503,  224,  209,  138,  559,  532,  342,  115,  772,  728,\n",
    "        470,  479,  122,   76,  174,  810,  270, 1284,  210, 1182,  176,\n",
    "        683, 1548,   73,  605,  252,  879,  180,  482,  544,  479,  755,\n",
    "        282, 1617,  486,  183,  551,  369,  916,   32,  234,  516,    1,\n",
    "        212,    6, 1094,  224, 1316,  694,  195, 1256,  371,  413,  287,\n",
    "        916,  250, 1143,  126,  574, 1523,   14,  659,  152,   90,   76,\n",
    "        333,   15,  122,  222,  165, 1184,  476,  682,   75,  298, 1630,\n",
    "        285,  777, 1167,  381,  606,  161,  287,  136,  329,  641,  560,\n",
    "        516, 1491,  142,   39,  203, 1147,  459,  505,  586,  186,  234,\n",
    "         99,  591,  213,  323,  355,  653, 1030,  586,   29,  136, 1021,\n",
    "        773, 1241, 1099,  564,   65,  226,    8,  337,  179,  117, 1599,\n",
    "         29,  871,  503,  189, 1033,  193,  278,  786, 1270,  517,  427,\n",
    "         93,   43,   35,   66,   77,  128,    9,    3, 1277, 1564, 1005,\n",
    "        219, 1205, 1517,  739,   60,   25,  401,  408,  441,  143,  108,\n",
    "        506, 1638,  588,  406,  828,   11,  147, 1167, 1434,  458,  678,\n",
    "        244,  214,   42,   67,  129,  121,  280,  563,  445,  216,  712,\n",
    "        158,  914,  981,  454,  362,  775,  582,  409, 1659, 1236,    9,\n",
    "        408,  519,  885,  163,  918, 1001, 1044,  109,  451,  805,  114,\n",
    "       1375,  251,  331,  147, 1580,   14,  368,    3,  723,   21, 1771,\n",
    "         20,  188,  228,  247,  124,  726,  615,  543,  297,  347,  765,\n",
    "        816,  668,  649, 1061, 1732,  328, 1197,  690,  497,  367, 1219,\n",
    "        957, 1206,  188,  133,  196,  222,   47,  479, 1901,  243,  859,\n",
    "       1331,  976,  541,  556,  584, 1337,  156, 1675,  349, 1321,  817,\n",
    "        764,  303,  359,   42,  992,  367,  271,  138,  163,  329,  444,\n",
    "        591,   15, 1137, 1418, 1051,   24,  254, 1867,  149,  169,  295,\n",
    "        230, 1243, 1372,  263,   43,  973,  485,  676,  463,  563,  380,\n",
    "        402,  446,  518,  698, 1318,   49,  172,  479,  215,  377, 1110,\n",
    "       1774, 1154,  707,  158,  879,  259,  473,  362,  245, 1466, 1074,\n",
    "        527,  636,  307, 1522, 1371, 1228,  556,  522,  423,  161,   39,\n",
    "       1602, 1135,  437,   89,  273,  320, 1031,  838,  133,  123,  189,\n",
    "        816,  539,  239,  568,  878,  917,   82,  905,  291,  825,  268,\n",
    "       1391,  326,   26,  793,   55, 1356,  629,   84,  241,  261, 1220,\n",
    "        295,   23,  642,  403,  809,  168,   28,   86,  434, 1178,   12,\n",
    "       1145,  106, 1091,  942,  168, 1761,  788,  666,  376, 1353,   44,\n",
    "         12,  209,  658,   23,  205,  964,  964,  566,  367,  336,   62,\n",
    "        462,  565,  151,  505, 1264,   23,   40,  251,  140,  104,   20,\n",
    "        328,  222,  734,  296,   14,   89,  199,  715,  382,  200,  246,\n",
    "         34,    3,  549,  173,  650, 1219,   52,  626,   23,   65,  802,\n",
    "        334,  286, 1039,  254,  408,  528,  608, 1554,  516,   83,  429,\n",
    "       1454,  384,  709,  414,  384,  397,   27,  706,  586,  125,   91,\n",
    "         81,  278,  178,  111,  263,  102,  190, 1235,  287, 1113,   34,\n",
    "         50,  258,  126,  191,  268, 1262,  745, 1205,  217,   16,   45,\n",
    "        829,  263,   52,  229,  822,  639,  955,  729, 1251,   98,  112,\n",
    "         94,  550,  247,  269, 1001,   22, 1282,  420,  700,   41,  445,\n",
    "        493,   19,   44,   75, 1518,   36,  943,   68, 1697,  172,  558,\n",
    "       1232, 1229,  122,  234,  755,  499,  845,    3, 1448,  100,  662,\n",
    "        654,  983,   92,  126,   89,  391, 1672, 1546,  324,  149,  136,\n",
    "        412,  649,  288,  633, 1226,   10, 1725,  717,   88,   50,  890,\n",
    "        820, 1114, 1519,   15,  162, 1769,  963,  610,  241,  350,  502,\n",
    "         73,  249,  263,  143,  324,  180,  615,  426,  139,   94,    5,\n",
    "        954,  117,  657,  418,  170,  635,    5,  276,    8,  723,  344,\n",
    "         32,  822,    3,  323,   11,   22,  471,  811,   51,   52,   49,\n",
    "          1,  575,   20,    1,  287,  664,  277,  252,  551,  366,  836,\n",
    "        181,  559,   35,   27,   28,   28,  856, 1057,  349,  447,  602,\n",
    "        447,  258, 1874, 1493,  452,  138,  846, 1530,   40,  482,   60,\n",
    "        101,  840,  120,   23,  115,  281,  389,   44, 1170,   37,  558,\n",
    "        467,  357, 1090,   18,  120,  526,  284,  930,  885,  152,  169,\n",
    "        674,   14,   97,  639, 1935,   61,  320, 1275, 1009,   13,  672,\n",
    "        351,  194,  872,   30,  214,  158,  658,  302,   70, 1404,  137,\n",
    "          3,  818,  162,  910,  199,  987,  392,  310,  922,  962,  751,\n",
    "       1772,  260,  108,  686,  932,  204,  312,  130,  794,    6,   82,\n",
    "         49,   24,  167,  188,  905,  772,  422,  735,   54,  931, 1040,\n",
    "        723,   16,  640,  858,  428,   81,  119,   85,   45, 1550,  138,\n",
    "        142,  508,  899,  626,    9,  401,  957,  158,   24,  132,  548,\n",
    "        139,  376,  115, 1661,  203,  485, 1334,  860,  213,   93,  128,\n",
    "          8,  799,  611, 1470,    2,  800,  353,   75,  166,   26,  120,\n",
    "         14,  869,  222,   21, 1146,   78, 1500,  321,    0,  738,  309,\n",
    "       1337,  323,  460,  301, 1025,  205,  717,  436,  125,  166, 1282,\n",
    "        265,  482,  373, 1247,  173,  228,  729,   78,  125,  366]"
   ]
  },
  {
   "cell_type": "code",
   "execution_count": 7,
   "id": "c16acadc",
   "metadata": {},
   "outputs": [],
   "source": [
    "import numpy as np\n",
    "import pandas as pd\n",
    "\n",
    "data = np.array(data)"
   ]
  },
  {
   "cell_type": "code",
   "execution_count": 6,
   "id": "c9aefa57",
   "metadata": {},
   "outputs": [
    {
     "data": {
      "text/plain": [
       "<AxesSubplot:ylabel='Frequency'>"
      ]
     },
     "execution_count": 6,
     "metadata": {},
     "output_type": "execute_result"
    },
    {
     "data": {
      "image/png": "[encoded data removed]",
      "text/plain": [
       "<Figure size 432x288 with 1 Axes>"
      ]
     },
     "metadata": {
      "needs_background": "light"
     },
     "output_type": "display_data"
    }
   ],
   "source": [
    "pd.DataFrame(data).plot.hist(bins=100)"
   ]
  },
  {
   "cell_type": "code",
   "execution_count": 12,
   "id": "5b4e1414",
   "metadata": {},
   "outputs": [],
   "source": [
    "def distance(center):\n",
    "    distances = np.abs(data - center)\n",
    "    return round((distances * (distances + 1) / 2).sum())\n",
    "\n",
    "centers = np.arange(2000)\n",
    "distances = np.array([distance(c) for c in centers])"
   ]
  },
  {
   "cell_type": "code",
   "execution_count": 19,
   "id": "db58d431",
   "metadata": {},
   "outputs": [
    {
     "data": {
      "text/plain": [
       "(488, 101618069)"
      ]
     },
     "execution_count": 19,
     "metadata": {},
     "output_type": "execute_result"
    },
    {
     "data": {
      "image/png": "[encoded data removed]",
      "text/plain": [
       "<Figure size 432x288 with 1 Axes>"
      ]
     },
     "metadata": {
      "needs_background": "light"
     },
     "output_type": "display_data"
    },
    {
     "data": {
      "image/png": "[encoded data removed]",
      "text/plain": [
       "<Figure size 432x288 with 1 Axes>"
      ]
     },
     "metadata": {
      "needs_background": "light"
     },
     "output_type": "display_data"
    }
   ],
   "source": [
    "import matplotlib.pyplot as plt\n",
    "\n",
    "plt.scatter(x=centers, y=distances)\n",
    "plt.xlabel('Center')\n",
    "pd.DataFrame(data).plot.hist(bins=100)\n",
    "\n",
    "centers[distances.argmin()], distances.min()"
   ]
  },
  {
   "cell_type": "code",
   "execution_count": null,
   "id": "6dacdc1d",
   "metadata": {},
   "outputs": [],
   "source": []
  }
 ],
 "metadata": {
  "kernelspec": {
   "display_name": "Python 3 (ipykernel)",
   "language": "python",
   "name": "python3"
  },
  "language_info": {
   "codemirror_mode": {
    "name": "ipython",
    "version": 3
   },
   "file_extension": ".py",
   "mimetype": "text/x-python",
   "name": "python",
   "nbconvert_exporter": "python",
   "pygments_lexer": "ipython3",
   "version": "3.9.5"
  }
 },
 "nbformat": 4,
 "nbformat_minor": 5
}
